{
 "cells": [
  {
   "cell_type": "markdown",
   "id": "e217a6d3",
   "metadata": {
    "nbgrader": {
     "grade": false,
     "grade_id": "cell-94184ebd53ecd724",
     "locked": true,
     "points": 1,
     "schema_version": 3,
     "solution": false,
     "task": true
    },
    "slideshow": {
     "slide_type": "slide"
    },
    "tags": []
   },
   "source": [
    "# 欢迎使用数联行智AI Notebook\n",
    "\n",
    "## 关于文件目录\n",
    "\n",
    "work： work目录是本项目的工作空间，用于保存运行相关的文件，该目录下的变更将会持久保存. 请及时清理不必要的文件, 避免加载过慢。\n",
    "\n",
    "data： data目录是本项目的数据集的挂载目录，所有挂载进项目的数据集都可在此查询；该目录为只读。"
   ]
  },
  {
   "cell_type": "code",
   "execution_count": null,
   "id": "39121491",
   "metadata": {},
   "outputs": [],
   "source": [
    "# 查看当前挂载的数据集目录，数据集目录为只读。\n",
    "!ls/home/aiminer/work"
   ]
  },
  {
   "cell_type": "code",
   "execution_count": null,
   "id": "bf65aded",
   "metadata": {},
   "outputs": [],
   "source": [
    "# 查看工作去文件，该目录下的变更将会持久保存。\n",
    "!ls/home/aiminer/work"
   ]
  }
 ],
 "metadata": {
  "kernelspec": {
   "display_name": "Python 3 (ipykernel)",
   "language": "python",
   "name": "python3"
  },
  "language_info": {
   "codemirror_mode": {
    "name": "ipython",
    "version": 3
   },
   "file_extension": ".py",
   "mimetype": "text/x-python",
   "name": "python",
   "nbconvert_exporter": "python",
   "pygments_lexer": "ipython3",
   "version": "3.8.3"
  },
  "toc-autonumbering": true,
  "toc-showcode": false,
  "toc-showmarkdowntxt": false,
  "toc-showtags": false
 },
 "nbformat": 4,
 "nbformat_minor": 5
}

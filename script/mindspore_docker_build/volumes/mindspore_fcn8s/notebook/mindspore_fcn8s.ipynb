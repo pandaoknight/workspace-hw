{
 "cells": [
  {
   "cell_type": "markdown",
   "metadata": {
    "pycharm": {
     "name": "#%% md\n"
    }
   },
   "source": [
    "# FCN图像语义分割\n",
    "\n",
    "[![在线运行](https://mindspore-website.obs.cn-north-4.myhuaweicloud.com/website-images/r2.2/resource/_static/logo_modelarts.svg)](https://authoring-modelarts-cnnorth4.huaweicloud.com/console/lab?share-url-b64=aHR0cHM6Ly9taW5kc3BvcmUtd2Vic2l0ZS5vYnMuY24tbm9ydGgtNC5teWh1YXdlaWNsb3VkLmNvbS9ub3RlYm9vay9yMi4yL3R1dG9yaWFscy9hcHBsaWNhdGlvbi96aF9jbi9jdi9taW5kc3BvcmVfZmNuOHMuaXB5bmI=&imageid=4c43b3ad-9df7-4b83-a096-c775dc4ba243)&emsp;[![下载Notebook](https://mindspore-website.obs.cn-north-4.myhuaweicloud.com/website-images/r2.2/resource/_static/logo_notebook.svg)](https://mindspore-website.obs.cn-north-4.myhuaweicloud.com/notebook/r2.2/tutorials/application/zh_cn/cv/mindspore_fcn8s.ipynb)&emsp;[![下载样例代码](https://mindspore-website.obs.cn-north-4.myhuaweicloud.com/website-images/r2.2/resource/_static/logo_download_code.svg)](https://mindspore-website.obs.cn-north-4.myhuaweicloud.com/notebook/r2.2/tutorials/application/zh_cn/cv/mindspore_fcn8s.py)&emsp;[![查看源文件](https://mindspore-website.obs.cn-north-4.myhuaweicloud.com/website-images/r2.2/resource/_static/logo_source.svg)](https://gitee.com/mindspore/docs/blob/r2.2/tutorials/application/source_zh_cn/cv/fcn8s.ipynb)\n",
    "\n",
    "全卷积网络（Fully Convolutional Networks，FCN）是UC Berkeley的Jonathan Long等人于2015年在Fully Convolutional Networks for Semantic Segmentation<sup>[1]</sup>一文中提出的用于图像语义分割的一种框架。\n",
    "\n",
    "FCN是首个端到端（end to end）进行像素级（pixel level）预测的全卷积网络。\n",
    "\n",
    "![fcn-1](https://mindspore-website.obs.cn-north-4.myhuaweicloud.com/website-images/r2.2/tutorials/application/source_zh_cn/cv/images/fcn_1.png)\n",
    "\n",
    "## 语义分割\n",
    "\n",
    "在具体介绍FCN之前，首先介绍何为语义分割：\n",
    "\n",
    "图像语义分割（semantic segmentation）是图像处理和机器视觉技术中关于图像理解的重要一环，AI领域中一个重要分支，常被应用于人脸识别、物体检测、医学影像、卫星图像分析、自动驾驶感知等领域。\n",
    "\n",
    "语义分割的目的是对图像中每个像素点进行分类。与普通的分类任务只输出某个类别不同，语义分割任务输出与输入大小相同的图像，输出图像的每个像素对应了输入图像每个像素的类别。语义在图像领域指的是图像的内容，对图片意思的理解，下图是一些语义分割的实例：\n",
    "\n",
    "![fcn-2](https://mindspore-website.obs.cn-north-4.myhuaweicloud.com/website-images/r2.2/tutorials/application/source_zh_cn/cv/images/fcn_2.png)\n",
    "\n",
    "## 模型简介\n",
    "\n",
    "FCN主要用于图像分割领域，是一种端到端的分割方法，是深度学习应用在图像语义分割的开山之作。通过进行像素级的预测直接得出与原图大小相等的label map。因FCN丢弃全连接层替换为全卷积层，网络所有层均为卷积层，故称为全卷积网络。\n",
    "\n",
    "全卷积神经网络主要使用以下三种技术：\n",
    "\n",
    "1. 卷积化（Convolutional）\n",
    "\n",
    "    使用VGG-16作为FCN的backbone。VGG-16的输入为224*224的RGB图像，输出为1000个预测值。VGG-16只能接受固定大小的输入，丢弃了空间坐标，产生非空间输出。VGG-16中共有三个全连接层，全连接层也可视为带有覆盖整个区域的卷积。将全连接层转换为卷积层能使网络输出由一维非空间输出变为二维矩阵，利用输出能生成输入图片映射的heatmap。\n",
    "\n",
    "   ![fcn-3](https://mindspore-website.obs.cn-north-4.myhuaweicloud.com/website-images/r2.2/tutorials/application/source_zh_cn/cv/images/fcn_3.png)\n",
    "\n",
    "2. 上采样（Upsample）\n",
    "\n",
    "    在卷积过程的卷积操作和池化操作会使得特征图的尺寸变小，为得到原图的大小的稠密图像预测，需要对得到的特征图进行上采样操作。使用双线性插值的参数来初始化上采样逆卷积的参数，后通过反向传播来学习非线性上采样。在网络中执行上采样，以通过像素损失的反向传播进行端到端的学习。\n",
    "\n",
    "    ![fcn-4](https://mindspore-website.obs.cn-north-4.myhuaweicloud.com/website-images/r2.2/tutorials/application/source_zh_cn/cv/images/fcn_4.png)\n",
    "\n",
    "3. 跳跃结构（Skip Layer）\n",
    "\n",
    "    利用上采样技巧对最后一层的特征图进行上采样得到原图大小的分割是步长为32像素的预测，称之为FCN-32s。由于最后一层的特征图太小，损失过多细节，采用skips结构将更具有全局信息的最后一层预测和更浅层的预测结合，使预测结果获取更多的局部细节。将底层（stride 32）的预测（FCN-32s）进行2倍的上采样得到原尺寸的图像，并与从pool4层（stride 16）进行的预测融合起来（相加），这一部分的网络被称为FCN-16s。随后将这一部分的预测再进行一次2倍的上采样并与从pool3层得到的预测融合起来，这一部分的网络被称为FCN-8s。 Skips结构将深层的全局信息与浅层的局部信息相结合。\n",
    "\n",
    "    ![fcn-5](https://mindspore-website.obs.cn-north-4.myhuaweicloud.com/website-images/r2.2/tutorials/application/source_zh_cn/cv/images/fcn_5.png)\n",
    "\n",
    "## 网络特点\n",
    "\n",
    "1. 不含全连接层(fc)的全卷积(fully conv)网络，可适应任意尺寸输入。  \n",
    "2. 增大数据尺寸的反卷积(deconv)层，能够输出精细的结果。  \n",
    "3. 结合不同深度层结果的跳级(skip)结构，同时确保鲁棒性和精确性。\n"
   ]
  },
  {
   "cell_type": "markdown",
   "metadata": {
    "pycharm": {
     "name": "#%% md\n"
    }
   },
   "source": [
    "## 数据处理\n",
    "\n",
    "开始实验前，需确保本地已经安装Python环境及MindSpore。"
   ]
  },
  {
   "cell_type": "code",
   "execution_count": null,
   "metadata": {
    "pycharm": {
     "name": "#%%\n"
    }
   },
   "outputs": [],
   "source": [
    "#from download import download\n",
    "\n",
    "#url = \"https://mindspore-website.obs.cn-north-4.myhuaweicloud.com/notebook/datasets/dataset_fcn8s.tar\"\n",
    "\n",
    "#download(url, \"./dataset\", kind=\"tar\", replace=True)"
   ]
  },
  {
   "cell_type": "markdown",
   "metadata": {
    "pycharm": {
     "name": "#%% md\n"
    }
   },
   "source": [
    "### 数据预处理\n",
    "\n",
    "由于PASCAL VOC 2012数据集中图像的分辨率大多不一致，无法放在一个tensor中，故输入前需做标准化处理。"
   ]
  },
  {
   "cell_type": "markdown",
   "metadata": {
    "pycharm": {
     "name": "#%% md\n"
    }
   },
   "source": [
    "### 数据加载\n",
    "\n",
    "将PASCAL VOC 2012数据集与SDB数据集进行混合。"
   ]
  },
  {
   "cell_type": "code",
   "execution_count": null,
   "metadata": {
    "pycharm": {
     "name": "#%%\n"
    }
   },
   "outputs": [],
   "source": [
    "import numpy as np\n",
    "import cv2\n",
    "import mindspore.dataset as ds\n",
    "\n",
    "class SegDataset:\n",
    "    def __init__(self,\n",
    "                 image_mean,\n",
    "                 image_std,\n",
    "                 data_file='',\n",
    "                 batch_size=32,\n",
    "                 crop_size=512,\n",
    "                 max_scale=2.0,\n",
    "                 min_scale=0.5,\n",
    "                 ignore_label=255,\n",
    "                 num_classes=21,\n",
    "                 num_readers=2,\n",
    "                 num_parallel_calls=4):\n",
    "\n",
    "        self.data_file = data_file\n",
    "        self.batch_size = batch_size\n",
    "        self.crop_size = crop_size\n",
    "        self.image_mean = np.array(image_mean, dtype=np.float32)\n",
    "        self.image_std = np.array(image_std, dtype=np.float32)\n",
    "        self.max_scale = max_scale\n",
    "        self.min_scale = min_scale\n",
    "        self.ignore_label = ignore_label\n",
    "        self.num_classes = num_classes\n",
    "        self.num_readers = num_readers\n",
    "        self.num_parallel_calls = num_parallel_calls\n",
    "        max_scale > min_scale\n",
    "\n",
    "    def preprocess_dataset(self, image, label):\n",
    "        print(\"开始解码和预处理图像...\")\n",
    "        image_out = cv2.imdecode(np.frombuffer(image, dtype=np.uint8), cv2.IMREAD_COLOR)\n",
    "        label_out = cv2.imdecode(np.frombuffer(label, dtype=np.uint8), cv2.IMREAD_GRAYSCALE)\n",
    "        print(f\"原始尺寸: {image_out.shape}\")\n",
    "        sc = np.random.uniform(self.min_scale, self.max_scale)\n",
    "        new_h, new_w = int(sc * image_out.shape[0]), int(sc * image_out.shape[1])\n",
    "        image_out = cv2.resize(image_out, (new_w, new_h), interpolation=cv2.INTER_CUBIC)\n",
    "        label_out = cv2.resize(label_out, (new_w, new_h), interpolation=cv2.INTER_NEAREST)\n",
    "\n",
    "        image_out = (image_out - self.image_mean) / self.image_std\n",
    "        out_h, out_w = max(new_h, self.crop_size), max(new_w, self.crop_size)\n",
    "        pad_h, pad_w = out_h - new_h, out_w - new_w\n",
    "        if pad_h > 0 or pad_w > 0:\n",
    "            image_out = cv2.copyMakeBorder(image_out, 0, pad_h, 0, pad_w, cv2.BORDER_CONSTANT, value=0)\n",
    "            label_out = cv2.copyMakeBorder(label_out, 0, pad_h, 0, pad_w, cv2.BORDER_CONSTANT, value=self.ignore_label)\n",
    "        offset_h = np.random.randint(0, out_h - self.crop_size + 1)\n",
    "        offset_w = np.random.randint(0, out_w - self.crop_size + 1)\n",
    "        image_out = image_out[offset_h: offset_h + self.crop_size, offset_w: offset_w + self.crop_size, :]\n",
    "        label_out = label_out[offset_h: offset_h + self.crop_size, offset_w: offset_w+self.crop_size]\n",
    "        if np.random.uniform(0.0, 1.0) > 0.5:\n",
    "            image_out = image_out[:, ::-1, :]\n",
    "            label_out = label_out[:, ::-1]\n",
    "        image_out = image_out.transpose((2, 0, 1))\n",
    "        image_out = image_out.copy()\n",
    "        label_out = label_out.copy()\n",
    "        label_out = label_out.astype(\"int32\")\n",
    "        return image_out, label_out\n",
    "\n",
    "    def get_dataset(self):\n",
    "        ds.config.set_numa_enable(True)\n",
    "        dataset = ds.MindDataset(self.data_file, columns_list=[\"data\", \"label\"],\n",
    "                                 shuffle=True, num_parallel_workers=self.num_readers)\n",
    "        transforms_list = self.preprocess_dataset\n",
    "        dataset = dataset.map(operations=transforms_list, input_columns=[\"data\", \"label\"],\n",
    "                              output_columns=[\"data\", \"label\"],\n",
    "                              num_parallel_workers=self.num_parallel_calls)\n",
    "        dataset = dataset.shuffle(buffer_size=self.batch_size * 10)\n",
    "        dataset = dataset.batch(self.batch_size, drop_remainder=True)\n",
    "        return dataset\n",
    "\n",
    "\n",
    "# 定义创建数据集的参数\n",
    "IMAGE_MEAN = [103.53, 116.28, 123.675]\n",
    "IMAGE_STD = [57.375, 57.120, 58.395]\n",
    "DATA_FILE = \"../dataset/dataset_fcn8s/mindname.mindrecord\"\n",
    "\n",
    "# 定义模型训练参数\n",
    "train_batch_size = 4\n",
    "crop_size = 512\n",
    "min_scale = 0.5\n",
    "max_scale = 2.0\n",
    "ignore_label = 255\n",
    "num_classes = 21\n",
    "\n",
    "# 实例化Dataset\n",
    "dataset = SegDataset(image_mean=IMAGE_MEAN,\n",
    "                     image_std=IMAGE_STD,\n",
    "                     data_file=DATA_FILE,\n",
    "                     batch_size=train_batch_size,\n",
    "                     crop_size=crop_size,\n",
    "                     max_scale=max_scale,\n",
    "                     min_scale=min_scale,\n",
    "                     ignore_label=ignore_label,\n",
    "                     num_classes=num_classes,\n",
    "                     num_readers=2,\n",
    "                     num_parallel_calls=4)\n",
    "\n",
    "dataset = dataset.get_dataset()\n",
    "\n",
    "print(\"Output shapes:\", dataset.output_shapes())\n",
    "print(\"Output types:\", dataset.output_types())\n"
   ]
  },
  {
   "cell_type": "markdown",
   "metadata": {
    "pycharm": {
     "name": "#%% md\n"
    }
   },
   "source": [
    "### 训练集可视化\n",
    "\n",
    "运行以下代码观察载入的数据集图片（数据处理过程中已做归一化处理）。"
   ]
  },
  {
   "cell_type": "code",
   "execution_count": null,
   "metadata": {
    "pycharm": {
     "name": "#%%\n"
    }
   },
   "outputs": [],
   "source": [
    "import numpy as np\n",
    "import matplotlib.pyplot as plt\n",
    "\n",
    "plt.figure(figsize=(16, 8))\n",
    "\n",
    "# 对训练集中的数据进行展示\n",
    "for i in range(1, 9):\n",
    "    plt.subplot(2, 4, i)\n",
    "    show_data = next(dataset.create_dict_iterator())\n",
    "    show_images = show_data[\"data\"].asnumpy()\n",
    "    show_images = np.clip(show_images, 0, 1)\n",
    "# 将图片转换HWC格式后进行展示\n",
    "    plt.imshow(show_images[0].transpose(1, 2, 0))\n",
    "    plt.axis(\"off\")\n",
    "    plt.subplots_adjust(wspace=0.05, hspace=0)\n",
    "plt.show()"
   ]
  },
  {
   "cell_type": "markdown",
   "metadata": {
    "pycharm": {
     "name": "#%% md\n"
    }
   },
   "source": [
    "## 网络构建\n",
    "\n",
    "### 网络流程\n",
    "\n",
    "FCN网络的流程如下图所示：\n",
    "\n",
    "1. 输入图像image，经过pool1池化后，尺寸变为原始尺寸的1/2。\n",
    "2. 经过pool2池化，尺寸变为原始尺寸的1/4。\n",
    "3. 接着经过pool3、pool4、pool5池化，大小分别变为原始尺寸的1/8、1/16、1/32。\n",
    "4. 经过conv6-7卷积，输出的尺寸依然是原图的1/32。\n",
    "5. FCN-32s是最后使用反卷积，使得输出图像大小与输入图像相同。\n",
    "6. FCN-16s是将conv7的输出进行反卷积，使其尺寸扩大两倍至原图的1/16，并将其与pool4输出的特征图进行融合，后通过反卷积扩大到原始尺寸。\n",
    "7. FCN-8s是将conv7的输出进行反卷积扩大4倍，将pool4输出的特征图反卷积扩大2倍，并将pool3输出特征图拿出，三者融合后通反卷积扩大到原始尺寸。\n",
    "\n",
    "![fcn-6](https://mindspore-website.obs.cn-north-4.myhuaweicloud.com/website-images/r2.2/tutorials/application/source_zh_cn/cv/images/fcn_6.png)\n",
    "\n",
    "使用以下代码构建FCN-8s网络。"
   ]
  },
  {
   "cell_type": "code",
   "execution_count": null,
   "metadata": {
    "pycharm": {
     "name": "#%%\n"
    }
   },
   "outputs": [],
   "source": [
    "import mindspore.nn as nn\n",
    "\n",
    "class FCN8s(nn.Cell):\n",
    "    def __init__(self, n_class):\n",
    "        super().__init__()\n",
    "        self.n_class = n_class\n",
    "        self.conv1 = nn.SequentialCell(\n",
    "            nn.Conv2d(in_channels=3, out_channels=64,\n",
    "                      kernel_size=3, weight_init='xavier_uniform'),\n",
    "            nn.BatchNorm2d(64),\n",
    "            nn.ReLU(),\n",
    "            nn.Conv2d(in_channels=64, out_channels=64,\n",
    "                      kernel_size=3, weight_init='xavier_uniform'),\n",
    "            nn.BatchNorm2d(64),\n",
    "            nn.ReLU()\n",
    "        )\n",
    "        self.pool1 = nn.MaxPool2d(kernel_size=2, stride=2)\n",
    "        self.conv2 = nn.SequentialCell(\n",
    "            nn.Conv2d(in_channels=64, out_channels=128,\n",
    "                      kernel_size=3, weight_init='xavier_uniform'),\n",
    "            nn.BatchNorm2d(128),\n",
    "            nn.ReLU(),\n",
    "            nn.Conv2d(in_channels=128, out_channels=128,\n",
    "                      kernel_size=3, weight_init='xavier_uniform'),\n",
    "            nn.BatchNorm2d(128),\n",
    "            nn.ReLU()\n",
    "        )\n",
    "        self.pool2 = nn.MaxPool2d(kernel_size=2, stride=2)\n",
    "        self.conv3 = nn.SequentialCell(\n",
    "            nn.Conv2d(in_channels=128, out_channels=256,\n",
    "                      kernel_size=3, weight_init='xavier_uniform'),\n",
    "            nn.BatchNorm2d(256),\n",
    "            nn.ReLU(),\n",
    "            nn.Conv2d(in_channels=256, out_channels=256,\n",
    "                      kernel_size=3, weight_init='xavier_uniform'),\n",
    "            nn.BatchNorm2d(256),\n",
    "            nn.ReLU(),\n",
    "            nn.Conv2d(in_channels=256, out_channels=256,\n",
    "                      kernel_size=3, weight_init='xavier_uniform'),\n",
    "            nn.BatchNorm2d(256),\n",
    "            nn.ReLU()\n",
    "        )\n",
    "        self.pool3 = nn.MaxPool2d(kernel_size=2, stride=2)\n",
    "        self.conv4 = nn.SequentialCell(\n",
    "            nn.Conv2d(in_channels=256, out_channels=512,\n",
    "                      kernel_size=3, weight_init='xavier_uniform'),\n",
    "            nn.BatchNorm2d(512),\n",
    "            nn.ReLU(),\n",
    "            nn.Conv2d(in_channels=512, out_channels=512,\n",
    "                      kernel_size=3, weight_init='xavier_uniform'),\n",
    "            nn.BatchNorm2d(512),\n",
    "            nn.ReLU(),\n",
    "            nn.Conv2d(in_channels=512, out_channels=512,\n",
    "                      kernel_size=3, weight_init='xavier_uniform'),\n",
    "            nn.BatchNorm2d(512),\n",
    "            nn.ReLU()\n",
    "        )\n",
    "        self.pool4 = nn.MaxPool2d(kernel_size=2, stride=2)\n",
    "        self.conv5 = nn.SequentialCell(\n",
    "            nn.Conv2d(in_channels=512, out_channels=512,\n",
    "                      kernel_size=3, weight_init='xavier_uniform'),\n",
    "            nn.BatchNorm2d(512),\n",
    "            nn.ReLU(),\n",
    "            nn.Conv2d(in_channels=512, out_channels=512,\n",
    "                      kernel_size=3, weight_init='xavier_uniform'),\n",
    "            nn.BatchNorm2d(512),\n",
    "            nn.ReLU(),\n",
    "            nn.Conv2d(in_channels=512, out_channels=512,\n",
    "                      kernel_size=3, weight_init='xavier_uniform'),\n",
    "            nn.BatchNorm2d(512),\n",
    "            nn.ReLU()\n",
    "        )\n",
    "        self.pool5 = nn.MaxPool2d(kernel_size=2, stride=2)\n",
    "        self.conv6 = nn.SequentialCell(\n",
    "            nn.Conv2d(in_channels=512, out_channels=4096,\n",
    "                      kernel_size=7, weight_init='xavier_uniform'),\n",
    "            nn.BatchNorm2d(4096),\n",
    "            nn.ReLU(),\n",
    "        )\n",
    "        self.conv7 = nn.SequentialCell(\n",
    "            nn.Conv2d(in_channels=4096, out_channels=4096,\n",
    "                      kernel_size=1, weight_init='xavier_uniform'),\n",
    "            nn.BatchNorm2d(4096),\n",
    "            nn.ReLU(),\n",
    "        )\n",
    "        self.score_fr = nn.Conv2d(in_channels=4096, out_channels=self.n_class,\n",
    "                                  kernel_size=1, weight_init='xavier_uniform')\n",
    "        self.upscore2 = nn.Conv2dTranspose(in_channels=self.n_class, out_channels=self.n_class,\n",
    "                                           kernel_size=4, stride=2, weight_init='xavier_uniform')\n",
    "        self.score_pool4 = nn.Conv2d(in_channels=512, out_channels=self.n_class,\n",
    "                                     kernel_size=1, weight_init='xavier_uniform')\n",
    "        self.upscore_pool4 = nn.Conv2dTranspose(in_channels=self.n_class, out_channels=self.n_class,\n",
    "                                                kernel_size=4, stride=2, weight_init='xavier_uniform')\n",
    "        self.score_pool3 = nn.Conv2d(in_channels=256, out_channels=self.n_class,\n",
    "                                     kernel_size=1, weight_init='xavier_uniform')\n",
    "        self.upscore8 = nn.Conv2dTranspose(in_channels=self.n_class, out_channels=self.n_class,\n",
    "                                           kernel_size=16, stride=8, weight_init='xavier_uniform')\n",
    "\n",
    "    def construct(self, x):\n",
    "#         print(\"输入尺寸:\", x.shape)\n",
    "        x1 = self.conv1(x)\n",
    "#         print(\"conv1输出尺寸:\", x1.shape)\n",
    "        p1 = self.pool1(x1)\n",
    "#         print(\"pool1输出尺寸:\", p1.shape)\n",
    "        \n",
    "        x2 = self.conv2(p1)\n",
    "#         print(\"conv2输出尺寸:\", x2.shape)\n",
    "        p2 = self.pool2(x2)\n",
    "#         print(\"pool2输出尺寸:\", p2.shape)\n",
    "        \n",
    "        x3 = self.conv3(p2)\n",
    "#         print(\"conv3输出尺寸:\", x3.shape)\n",
    "        p3 = self.pool3(x3)\n",
    "#         print(\"pool3输出尺寸:\", p3.shape)\n",
    "        \n",
    "        x4 = self.conv4(p3)\n",
    "#         print(\"conv4输出尺寸:\", x4.shape)\n",
    "        p4 = self.pool4(x4)\n",
    "#         print(\"pool4输出尺寸:\", p4.shape)\n",
    "        \n",
    "        x5 = self.conv5(p4)\n",
    "#         print(\"conv5输出尺寸:\", x5.shape)\n",
    "        p5 = self.pool5(x5)\n",
    "#         print(\"pool5输出尺寸:\", p5.shape)\n",
    "        \n",
    "        x6 = self.conv6(p5)\n",
    "#         print(\"conv6输出尺寸:\", x6.shape)\n",
    "        x7 = self.conv7(x6)\n",
    "#         print(\"conv7输出尺寸:\", x7.shape)\n",
    "        \n",
    "        sf = self.score_fr(x7)\n",
    "#         print(\"score_fr输出尺寸:\", sf.shape)\n",
    "        u2 = self.upscore2(sf)\n",
    "#         print(\"upscore2输出尺寸:\", u2.shape)\n",
    "        \n",
    "        s4 = self.score_pool4(p4)\n",
    "#         print(\"score_pool4输出尺寸:\", s4.shape)\n",
    "        f4 = s4 + u2\n",
    "#         print(\"合并f4尺寸:\", f4.shape)\n",
    "        u4 = self.upscore_pool4(f4)\n",
    "#         print(\"upscore_pool4输出尺寸:\", u4.shape)\n",
    "        \n",
    "        s3 = self.score_pool3(p3)\n",
    "#         print(\"score_pool3输出尺寸:\", s3.shape)\n",
    "        f3 = s3 + u4\n",
    "#         print(\"合并f3尺寸:\", f3.shape)\n",
    "        out = self.upscore8(f3)\n",
    "#         print(\"最终输出尺寸:\", out.shape)\n",
    "        \n",
    "        return out"
   ]
  },
  {
   "cell_type": "markdown",
   "metadata": {
    "pycharm": {
     "name": "#%% md\n"
    }
   },
   "source": [
    "## 训练准备\n",
    "\n",
    "### 导入VGG-16部分预训练权重\n",
    "\n",
    "FCN使用VGG-16作为骨干网络，用于实现图像编码。使用下面代码导入VGG-16预训练模型的部分预训练权重。"
   ]
  },
  {
   "cell_type": "code",
   "execution_count": null,
   "metadata": {
    "pycharm": {
     "name": "#%%\n"
    }
   },
   "outputs": [],
   "source": [
    "#from download import download\n",
    "\n",
    "#url = \"https://mindspore-website.obs.cn-north-4.myhuaweicloud.com/notebook/datasets/fcn8s_vgg16_pretrain.ckpt\"\n",
    "#download(url, \"fcn8s_vgg16_pretrain.ckpt\", replace=True)\n",
    "from mindspore import load_checkpoint, load_param_into_net\n",
    "\n",
    "def load_vgg16():\n",
    "    ckpt_vgg16 = \"../checkpoints/fcn8s_vgg16_pretrain.ckpt\"\n",
    "    print(\"before load\")\n",
    "    param_vgg = load_checkpoint(ckpt_vgg16)\n",
    "    load_param_into_net(net, param_vgg)\n",
    "    print(\"after load\")"
   ]
  },
  {
   "cell_type": "markdown",
   "metadata": {
    "pycharm": {
     "name": "#%% md\n"
    }
   },
   "source": [
    "### 损失函数\n",
    "\n",
    "语义分割是对图像中每个像素点进行分类，仍是分类问题，故损失函数选择交叉熵损失函数来计算FCN网络输出与mask之间的交叉熵损失。这里我们使用的是mindspore.nn.CrossEntropyLoss()作为损失函数。"
   ]
  },
  {
   "cell_type": "markdown",
   "metadata": {
    "pycharm": {
     "name": "#%% md\n"
    }
   },
   "source": [
    "### 自定义评价指标 Metrics\n",
    "\n",
    "这一部分主要对训练出来的模型效果进行评估，为了便于解释，假设如下：共有 $k+1$ 个类（从 $L_0$ 到 $L_k$, 其中包含一个空类或背景）， $p_{i j}$ 表示本属于$i$类但被预测为$j$类的像素数量。即, $p_{i i}$ 表示真正的数量, 而 $p_{i j} p_{j i}$ 则分别被解释为假正和假负, 尽管两者都是假正与假负之和。\n",
    "\n",
    "- Pixel Accuracy(PA, 像素精度)：这是最简单的度量，为标记正确的像素占总像素的比例。\n",
    "\n",
    "$$ P A=\\frac{\\sum_{i=0}^k p_{i i}}{\\sum_{i=0}^k \\sum_{j=0}^k p_{i j}} $$\n",
    "\n",
    "- Mean Pixel Accuracy(MPA, 均像素精度)：是PA的一种简单提升，计算每个类内被正确分类像素数的比例，之后求所有类的平均。\n",
    "\n",
    "$$ M P A=\\frac{1}{k+1} \\sum_{i=0}^k \\frac{p_{i i}}{\\sum_{j=0}^k p_{i j}} $$\n",
    "\n",
    "- Mean Intersection over Union(MloU, 均交并比)：为语义分割的标准度量。其计算两个集合的交集和并集之，在语义分割的问题中，这两个集合为真实值（ground truth) 和预测值（predicted segmentation）。这个比例可以变形为正真数 (intersection) 比上真正、假负、假正（并集）之和。在每个类上计算loU，之后平均。\n",
    "\n",
    "$$ M I o U=\\frac{1}{k+1} \\sum_{i=0}^k \\frac{p_{i i}}{\\sum_{j=0}^k p_{i j}+\\sum_{j=0}^k p_{j i}-p_{i i}} $$\n",
    "\n",
    "- Frequency Weighted Intersection over Union(FWIoU, 频权交井比)：为MloU的一种提升，这种方法根据每个类出现的频率为其设置权重。\n",
    "\n",
    "$$ F W I o U=\\frac{1}{\\sum_{i=0}^k \\sum_{j=0}^k p_{i j}} \\sum_{i=0}^k \\frac{p_{i i}}{\\sum_{j=0}^k p_{i j}+\\sum_{j=0}^k p_{j i}-p_{i i}} $$"
   ]
  },
  {
   "cell_type": "code",
   "execution_count": null,
   "metadata": {
    "pycharm": {
     "name": "#%%\n"
    }
   },
   "outputs": [],
   "source": [
    "import numpy as np\n",
    "import mindspore as ms\n",
    "import mindspore.nn as nn\n",
    "import mindspore.train as train\n",
    "\n",
    "class PixelAccuracy(train.Metric):\n",
    "    def __init__(self, num_class=21):\n",
    "        super(PixelAccuracy, self).__init__()\n",
    "        self.num_class = num_class\n",
    "\n",
    "    def _generate_matrix(self, gt_image, pre_image):\n",
    "        mask = (gt_image >= 0) & (gt_image < self.num_class)\n",
    "        label = self.num_class * gt_image[mask].astype('int') + pre_image[mask]\n",
    "        count = np.bincount(label, minlength=self.num_class**2)\n",
    "        confusion_matrix = count.reshape(self.num_class, self.num_class)\n",
    "        return confusion_matrix\n",
    "\n",
    "    def clear(self):\n",
    "        self.confusion_matrix = np.zeros((self.num_class,) * 2)\n",
    "\n",
    "    def update(self, *inputs):\n",
    "        y_pred = inputs[0].asnumpy().argmax(axis=1)\n",
    "        y = inputs[1].asnumpy().reshape(4, 512, 512)\n",
    "        self.confusion_matrix += self._generate_matrix(y, y_pred)\n",
    "\n",
    "    def eval(self):\n",
    "        pixel_accuracy = np.diag(self.confusion_matrix).sum() / self.confusion_matrix.sum()\n",
    "        return pixel_accuracy\n",
    "\n",
    "\n",
    "class PixelAccuracyClass(train.Metric):\n",
    "    def __init__(self, num_class=21):\n",
    "        super(PixelAccuracyClass, self).__init__()\n",
    "        self.num_class = num_class\n",
    "\n",
    "    def _generate_matrix(self, gt_image, pre_image):\n",
    "        mask = (gt_image >= 0) & (gt_image < self.num_class)\n",
    "        label = self.num_class * gt_image[mask].astype('int') + pre_image[mask]\n",
    "        count = np.bincount(label, minlength=self.num_class**2)\n",
    "        confusion_matrix = count.reshape(self.num_class, self.num_class)\n",
    "        return confusion_matrix\n",
    "\n",
    "    def update(self, *inputs):\n",
    "        y_pred = inputs[0].asnumpy().argmax(axis=1)\n",
    "        y = inputs[1].asnumpy().reshape(4, 512, 512)\n",
    "        self.confusion_matrix += self._generate_matrix(y, y_pred)\n",
    "\n",
    "    def clear(self):\n",
    "        self.confusion_matrix = np.zeros((self.num_class,) * 2)\n",
    "\n",
    "    def eval(self):\n",
    "        mean_pixel_accuracy = np.diag(self.confusion_matrix) / self.confusion_matrix.sum(axis=1)\n",
    "        mean_pixel_accuracy = np.nanmean(mean_pixel_accuracy)\n",
    "        return mean_pixel_accuracy\n",
    "\n",
    "\n",
    "class MeanIntersectionOverUnion(train.Metric):\n",
    "    def __init__(self, num_class=21):\n",
    "        super(MeanIntersectionOverUnion, self).__init__()\n",
    "        self.num_class = num_class\n",
    "\n",
    "    def _generate_matrix(self, gt_image, pre_image):\n",
    "        mask = (gt_image >= 0) & (gt_image < self.num_class)\n",
    "        label = self.num_class * gt_image[mask].astype('int') + pre_image[mask]\n",
    "        count = np.bincount(label, minlength=self.num_class**2)\n",
    "        confusion_matrix = count.reshape(self.num_class, self.num_class)\n",
    "        return confusion_matrix\n",
    "\n",
    "    def update(self, *inputs):\n",
    "        y_pred = inputs[0].asnumpy().argmax(axis=1)\n",
    "        y = inputs[1].asnumpy().reshape(4, 512, 512)\n",
    "        self.confusion_matrix += self._generate_matrix(y, y_pred)\n",
    "\n",
    "    def clear(self):\n",
    "        self.confusion_matrix = np.zeros((self.num_class,) * 2)\n",
    "\n",
    "    def eval(self):\n",
    "        mean_iou = np.diag(self.confusion_matrix) / (\n",
    "            np.sum(self.confusion_matrix, axis=1) + np.sum(self.confusion_matrix, axis=0) -\n",
    "            np.diag(self.confusion_matrix))\n",
    "        mean_iou = np.nanmean(mean_iou)\n",
    "        return mean_iou\n",
    "\n",
    "\n",
    "class FrequencyWeightedIntersectionOverUnion(train.Metric):\n",
    "    def __init__(self, num_class=21):\n",
    "        super(FrequencyWeightedIntersectionOverUnion, self).__init__()\n",
    "        self.num_class = num_class\n",
    "\n",
    "    def _generate_matrix(self, gt_image, pre_image):\n",
    "        mask = (gt_image >= 0) & (gt_image < self.num_class)\n",
    "        label = self.num_class * gt_image[mask].astype('int') + pre_image[mask]\n",
    "        count = np.bincount(label, minlength=self.num_class**2)\n",
    "        confusion_matrix = count.reshape(self.num_class, self.num_class)\n",
    "        return confusion_matrix\n",
    "\n",
    "    def update(self, *inputs):\n",
    "        y_pred = inputs[0].asnumpy().argmax(axis=1)\n",
    "        y = inputs[1].asnumpy().reshape(4, 512, 512)\n",
    "        self.confusion_matrix += self._generate_matrix(y, y_pred)\n",
    "\n",
    "    def clear(self):\n",
    "        self.confusion_matrix = np.zeros((self.num_class,) * 2)\n",
    "\n",
    "    def eval(self):\n",
    "        freq = np.sum(self.confusion_matrix, axis=1) / np.sum(self.confusion_matrix)\n",
    "        iu = np.diag(self.confusion_matrix) / (\n",
    "            np.sum(self.confusion_matrix, axis=1) + np.sum(self.confusion_matrix, axis=0) -\n",
    "            np.diag(self.confusion_matrix))\n",
    "\n",
    "        frequency_weighted_iou = (freq[freq > 0] * iu[freq > 0]).sum()\n",
    "        return frequency_weighted_iou"
   ]
  },
  {
   "cell_type": "markdown",
   "metadata": {
    "pycharm": {
     "name": "#%% md\n"
    }
   },
   "source": [
    "## 模型训练\n",
    "\n",
    "导入VGG-16预训练参数后，实例化损失函数、优化器，使用Model接口编译网络，训练FCN-8s网络。"
   ]
  },
  {
   "cell_type": "code",
   "execution_count": null,
   "metadata": {
    "pycharm": {
     "name": "#%%\n"
    }
   },
   "outputs": [],
   "source": [
    "import mindspore\n",
    "from mindspore import Tensor\n",
    "import mindspore.nn as nn\n",
    "from mindspore.train import ModelCheckpoint, CheckpointConfig, LossMonitor, TimeMonitor, Model\n",
    "\n",
    "#device_target = \"GPU\"\n",
    "device_target = \"Ascend\"\n",
    "mindspore.set_context(mode=mindspore.PYNATIVE_MODE, device_target=device_target)\n",
    "\n",
    "train_batch_size = 4\n",
    "num_classes = 21\n",
    "# 初始化模型结构\n",
    "net = FCN8s(n_class=21)\n",
    "# 导入vgg16预训练参数\n",
    "load_vgg16()\n",
    "print(\"After load_vgg16()\")\n",
    "# 计算学习率\n",
    "min_lr = 0.0005\n",
    "base_lr = 0.05\n",
    "train_epochs = 1\n",
    "iters_per_epoch = dataset.get_dataset_size()\n",
    "total_step = iters_per_epoch * train_epochs\n",
    "\n",
    "lr_scheduler = mindspore.nn.cosine_decay_lr(min_lr,\n",
    "                                            base_lr,\n",
    "                                            total_step,\n",
    "                                            iters_per_epoch,\n",
    "                                            decay_epoch=2)\n",
    "lr = Tensor(lr_scheduler[-1])\n",
    "\n",
    "# 定义损失函数\n",
    "loss = nn.CrossEntropyLoss(ignore_index=255)\n",
    "# 定义优化器\n",
    "optimizer = nn.Momentum(params=net.trainable_params(), learning_rate=lr, momentum=0.9, weight_decay=0.0001)\n",
    "# 定义loss_scale\n",
    "scale_factor = 4\n",
    "scale_window = 3000\n",
    "loss_scale_manager = ms.amp.DynamicLossScaleManager(scale_factor, scale_window)\n",
    "# 初始化模型\n",
    "if device_target == \"Ascend\":\n",
    "    model = Model(net, loss_fn=loss, optimizer=optimizer, loss_scale_manager=loss_scale_manager, metrics={\"pixel accuracy\": PixelAccuracy(), \"mean pixel accuracy\": PixelAccuracyClass(), \"mean IoU\": MeanIntersectionOverUnion(), \"frequency weighted IoU\": FrequencyWeightedIntersectionOverUnion()})\n",
    "else:\n",
    "    model = Model(net, loss_fn=loss, optimizer=optimizer, metrics={\"pixel accuracy\": PixelAccuracy(), \"mean pixel accuracy\": PixelAccuracyClass(), \"mean IoU\": MeanIntersectionOverUnion(), \"frequency weighted IoU\": FrequencyWeightedIntersectionOverUnion()})\n",
    "\n",
    "# 设置ckpt文件保存的参数\n",
    "time_callback = TimeMonitor(data_size=iters_per_epoch)\n",
    "loss_callback = LossMonitor()\n",
    "callbacks = [time_callback, loss_callback]\n",
    "save_steps = 330\n",
    "keep_checkpoint_max = 5\n",
    "config_ckpt = CheckpointConfig(save_checkpoint_steps=10,\n",
    "                               keep_checkpoint_max=keep_checkpoint_max)\n",
    "ckpt_callback = ModelCheckpoint(prefix=\"FCN8s\",\n",
    "                                directory=\"./ckpt\",\n",
    "                                config=config_ckpt)\n",
    "callbacks.append(ckpt_callback)\n",
    "model.train(train_epochs, dataset, callbacks=callbacks)"
   ]
  },
  {
   "cell_type": "markdown",
   "metadata": {
    "pycharm": {
     "name": "#%% md\n"
    }
   },
   "source": [
    "> 因为FCN网络在训练的过程中需要大量的训练数据和训练轮数，这里只提供了小数据单个epoch的训练来演示loss收敛的过程，下文中使用已训练好的权重文件进行模型评估和推理效果的展示。"
   ]
  },
  {
   "cell_type": "markdown",
   "metadata": {
    "pycharm": {
     "name": "#%% md\n"
    }
   },
   "source": [
    "## 模型评估"
   ]
  },
  {
   "cell_type": "code",
   "execution_count": null,
   "metadata": {
    "pycharm": {
     "name": "#%%\n"
    }
   },
   "outputs": [],
   "source": [
    "IMAGE_MEAN = [103.53, 116.28, 123.675]\n",
    "IMAGE_STD = [57.375, 57.120, 58.395]\n",
    "DATA_FILE = \"dataset/dataset_fcn8s/mindname.mindrecord\"\n",
    "\n",
    "# 下载已训练好的权重文件\n",
    "# url = \"https://mindspore-website.obs.cn-north-4.myhuaweicloud.com/notebook/datasets/FCN8s.ckpt\"\n",
    "# download(url, \"FCN8s.ckpt\", replace=True)\n",
    "net = FCN8s(n_class=num_classes)\n",
    "\n",
    "ckpt_file = \"../checkpoints/FCN8s.ckpt\"\n",
    "param_dict = load_checkpoint(ckpt_file)\n",
    "load_param_into_net(net, param_dict)\n",
    "\n",
    "if device_target == \"Ascend\":\n",
    "    model = Model(net, loss_fn=loss, optimizer=optimizer, loss_scale_manager=loss_scale_manager, metrics={\"pixel accuracy\": PixelAccuracy(), \"mean pixel accuracy\": PixelAccuracyClass(), \"mean IoU\": MeanIntersectionOverUnion(), \"frequency weighted IoU\": FrequencyWeightedIntersectionOverUnion()})\n",
    "else:\n",
    "    model = Model(net, loss_fn=loss, optimizer=optimizer, metrics={\"pixel accuracy\": PixelAccuracy(), \"mean pixel accuracy\": PixelAccuracyClass(), \"mean IoU\": MeanIntersectionOverUnion(), \"frequency weighted IoU\": FrequencyWeightedIntersectionOverUnion()})\n",
    "\n",
    "# 实例化Dataset\n",
    "dataset = SegDataset(image_mean=IMAGE_MEAN,\n",
    "                     image_std=IMAGE_STD,\n",
    "                     data_file=DATA_FILE,\n",
    "                     batch_size=train_batch_size,\n",
    "                     crop_size=crop_size,\n",
    "                     max_scale=max_scale,\n",
    "                     min_scale=min_scale,\n",
    "                     ignore_label=ignore_label,\n",
    "                     num_classes=num_classes,\n",
    "                     num_readers=2,\n",
    "                     num_parallel_calls=4)\n",
    "dataset_eval = dataset.get_dataset()\n",
    "model.eval(dataset_eval)"
   ]
  },
  {
   "cell_type": "markdown",
   "metadata": {
    "pycharm": {
     "name": "#%% md\n"
    }
   },
   "source": [
    "## 模型推理\n",
    "\n",
    "使用训练的网络对模型推理结果进行展示。"
   ]
  },
  {
   "cell_type": "code",
   "execution_count": null,
   "metadata": {
    "pycharm": {
     "name": "#%%\n"
    }
   },
   "outputs": [],
   "source": [
    "import cv2\n",
    "import matplotlib.pyplot as plt\n",
    "\n",
    "net = FCN8s(n_class=num_classes)\n",
    "# 设置超参\n",
    "ckpt_file = \"../checkpoints/FCN8s.ckpt\"\n",
    "param_dict = load_checkpoint(ckpt_file)\n",
    "load_param_into_net(net, param_dict)\n",
    "eval_batch_size = 4\n",
    "img_lst = []\n",
    "mask_lst = []\n",
    "res_lst = []\n",
    "# 推理效果展示(上方为输入图片，下方为推理效果图片)\n",
    "plt.figure(figsize=(8, 5))\n",
    "show_data = next(dataset_eval.create_dict_iterator())\n",
    "show_images = show_data[\"data\"].asnumpy()\n",
    "mask_images = show_data[\"label\"].reshape([4, 512, 512])\n",
    "show_images = np.clip(show_images, 0, 1)\n",
    "for i in range(eval_batch_size):\n",
    "    img_lst.append(show_images[i])\n",
    "    mask_lst.append(mask_images[i])\n",
    "res = net(show_data[\"data\"]).asnumpy().argmax(axis=1)\n",
    "for i in range(eval_batch_size):\n",
    "    plt.subplot(2, 4, i + 1)\n",
    "    plt.imshow(img_lst[i].transpose(1, 2, 0))\n",
    "    plt.axis(\"off\")\n",
    "    plt.subplots_adjust(wspace=0.05, hspace=0.02)\n",
    "    plt.subplot(2, 4, i + 5)\n",
    "    plt.imshow(res[i])\n",
    "    plt.axis(\"off\")\n",
    "    plt.subplots_adjust(wspace=0.05, hspace=0.02)\n",
    "plt.show()\n"
   ]
  },
  {
   "cell_type": "markdown",
   "metadata": {
    "pycharm": {
     "name": "#%% md\n"
    }
   },
   "source": [
    "## 总结\n",
    "\n",
    "FCN的核心贡献在于提出使用全卷积层，通过学习让图片实现端到端分割。与传统使用CNN进行图像分割的方法相比，FCN有两大明显的优点：一是可以接受任意大小的输入图像，无需要求所有的训练图像和测试图像具有固定的尺寸。二是更加高效，避免了由于使用像素块而带来的重复存储和计算卷积的问题。\n",
    "\n",
    "同时FCN网络也存在待改进之处：\n",
    "\n",
    "一是得到的结果仍不够精细。进行8倍上采样虽然比32倍的效果好了很多，但是上采样的结果仍比较模糊和平滑，尤其是边界处，网络对图像中的细节不敏感。\n",
    "二是对各个像素进行分类，没有充分考虑像素与像素之间的关系（如不连续性和相似性）。忽略了在通常的基于像素分类的分割方法中使用的空间规整（spatial regularization）步骤，缺乏空间一致性。\n",
    "\n",
    "## 引用\n",
    "\n",
    "[1]Long, Jonathan, Evan Shelhamer, and Trevor Darrell. \"Fully convolutional networks for Semantic Segmentation.\" Proceedings of the IEEE Conference on Computer Vision and Pattern Recognition. 2015."
   ]
  }
 ],
 "metadata": {
  "kernelspec": {
   "display_name": "Python 3 (ipykernel)",
   "language": "python",
   "name": "python3"
  },
  "language_info": {
   "codemirror_mode": {
    "name": "ipython",
    "version": 3
   },
   "file_extension": ".py",
   "mimetype": "text/x-python",
   "name": "python",
   "nbconvert_exporter": "python",
   "pygments_lexer": "ipython3",
   "version": "3.7.5"
  },
  "vscode": {
   "interpreter": {
    "hash": "5991bb6ddd18f5f28b35941317add6d392f35bceeeac2e7b1aa1f8654ae6ac72"
   }
  }
 },
 "nbformat": 4,
 "nbformat_minor": 4
}
